{
 "cells": [
  {
   "cell_type": "code",
   "execution_count": 1,
   "metadata": {},
   "outputs": [],
   "source": [
    "import numpy as np\n",
    "import pandas as pd\n",
    "import os\n",
    "from datetime import datetime, timedelta\n",
    "import matplotlib.pyplot as plt\n",
    "%matplotlib inline"
   ]
  },
  {
   "cell_type": "code",
   "execution_count": 2,
   "metadata": {},
   "outputs": [],
   "source": [
    "np.random.seed(42)"
   ]
  },
  {
   "cell_type": "markdown",
   "metadata": {},
   "source": [
    "# Portfolio Planner\n",
    "\n",
    "In this activity, you will use the ALPACA api to grab historical data for a 60/40 portfolio using `SPY` to represent the stock portion and `AGG` to represent the bonds."
   ]
  },
  {
   "cell_type": "code",
   "execution_count": 3,
   "metadata": {},
   "outputs": [],
   "source": [
    "#import alpaca \n",
    "import alpaca_trade_api as tradeapi"
   ]
  },
  {
   "cell_type": "code",
   "execution_count": 4,
   "metadata": {},
   "outputs": [],
   "source": [
    "# Load .env enviroment variables\n",
    "from dotenv import load_dotenv\n",
    "load_dotenv()\n",
    "\n",
    "# Set Alpaca API key and secret\n",
    "alpaca_api_key = os.getenv(\"ALPACA_API_KEY\")\n",
    "alpaca_secret_key = os.getenv(\"ALPACA_SECRET_KEY\")\n",
    "\n",
    "api = tradeapi.REST(alpaca_api_key, alpaca_secret_key, api_version='v2')"
   ]
  },
  {
   "cell_type": "markdown",
   "metadata": {},
   "source": [
    "# Data Collection\n",
    "\n",
    "In this step, you will need to use the ALPACA api to fetch closing prices for the `SPY` and `AGG` tickers. Save the results as a pandas DataFrame"
   ]
  },
  {
   "cell_type": "code",
   "execution_count": 5,
   "metadata": {},
   "outputs": [
    {
     "data": {
      "text/html": [
       "<div>\n",
       "<style scoped>\n",
       "    .dataframe tbody tr th:only-of-type {\n",
       "        vertical-align: middle;\n",
       "    }\n",
       "\n",
       "    .dataframe tbody tr th {\n",
       "        vertical-align: top;\n",
       "    }\n",
       "\n",
       "    .dataframe thead tr th {\n",
       "        text-align: left;\n",
       "    }\n",
       "\n",
       "    .dataframe thead tr:last-of-type th {\n",
       "        text-align: right;\n",
       "    }\n",
       "</style>\n",
       "<table border=\"1\" class=\"dataframe\">\n",
       "  <thead>\n",
       "    <tr>\n",
       "      <th></th>\n",
       "      <th>AGG</th>\n",
       "      <th>SPY</th>\n",
       "    </tr>\n",
       "    <tr>\n",
       "      <th></th>\n",
       "      <th>close</th>\n",
       "      <th>close</th>\n",
       "    </tr>\n",
       "    <tr>\n",
       "      <th>time</th>\n",
       "      <th></th>\n",
       "      <th></th>\n",
       "    </tr>\n",
       "  </thead>\n",
       "  <tbody>\n",
       "    <tr>\n",
       "      <td>2019-11-15 00:00:00-05:00</td>\n",
       "      <td>112.4100</td>\n",
       "      <td>311.82</td>\n",
       "    </tr>\n",
       "    <tr>\n",
       "      <td>2019-11-18 00:00:00-05:00</td>\n",
       "      <td>112.5950</td>\n",
       "      <td>312.00</td>\n",
       "    </tr>\n",
       "    <tr>\n",
       "      <td>2019-11-19 00:00:00-05:00</td>\n",
       "      <td>112.7100</td>\n",
       "      <td>311.91</td>\n",
       "    </tr>\n",
       "    <tr>\n",
       "      <td>2019-11-20 00:00:00-05:00</td>\n",
       "      <td>112.9700</td>\n",
       "      <td>310.79</td>\n",
       "    </tr>\n",
       "    <tr>\n",
       "      <td>2019-11-21 00:00:00-05:00</td>\n",
       "      <td>112.8131</td>\n",
       "      <td>310.29</td>\n",
       "    </tr>\n",
       "    <tr>\n",
       "      <td>...</td>\n",
       "      <td>...</td>\n",
       "      <td>...</td>\n",
       "    </tr>\n",
       "    <tr>\n",
       "      <td>2020-04-03 00:00:00-04:00</td>\n",
       "      <td>115.0000</td>\n",
       "      <td>248.21</td>\n",
       "    </tr>\n",
       "    <tr>\n",
       "      <td>2020-04-06 00:00:00-04:00</td>\n",
       "      <td>115.5800</td>\n",
       "      <td>264.97</td>\n",
       "    </tr>\n",
       "    <tr>\n",
       "      <td>2020-04-07 00:00:00-04:00</td>\n",
       "      <td>115.6900</td>\n",
       "      <td>265.10</td>\n",
       "    </tr>\n",
       "    <tr>\n",
       "      <td>2020-04-08 00:00:00-04:00</td>\n",
       "      <td>115.8100</td>\n",
       "      <td>274.07</td>\n",
       "    </tr>\n",
       "    <tr>\n",
       "      <td>2020-04-09 00:00:00-04:00</td>\n",
       "      <td>117.1100</td>\n",
       "      <td>278.24</td>\n",
       "    </tr>\n",
       "  </tbody>\n",
       "</table>\n",
       "<p>100 rows × 2 columns</p>\n",
       "</div>"
      ],
      "text/plain": [
       "                                AGG     SPY\n",
       "                              close   close\n",
       "time                                       \n",
       "2019-11-15 00:00:00-05:00  112.4100  311.82\n",
       "2019-11-18 00:00:00-05:00  112.5950  312.00\n",
       "2019-11-19 00:00:00-05:00  112.7100  311.91\n",
       "2019-11-20 00:00:00-05:00  112.9700  310.79\n",
       "2019-11-21 00:00:00-05:00  112.8131  310.29\n",
       "...                             ...     ...\n",
       "2020-04-03 00:00:00-04:00  115.0000  248.21\n",
       "2020-04-06 00:00:00-04:00  115.5800  264.97\n",
       "2020-04-07 00:00:00-04:00  115.6900  265.10\n",
       "2020-04-08 00:00:00-04:00  115.8100  274.07\n",
       "2020-04-09 00:00:00-04:00  117.1100  278.24\n",
       "\n",
       "[100 rows x 2 columns]"
      ]
     },
     "execution_count": 5,
     "metadata": {},
     "output_type": "execute_result"
    }
   ],
   "source": [
    "# Set the list of tickers\n",
    "tickers = [\"SPY\", \"AGG\"]\n",
    "\n",
    "# Set timeframe to 1 DAY for close at end of each day\n",
    "timeframe = '1D'\n",
    "\n",
    "# Set start and end datetimes of 1 year, between now and 365 days ago.\n",
    "end_date = datetime.now()\n",
    "start_date = end_date + timedelta(-365)\n",
    "\n",
    "# Get 1 year's worth of historical data for SPY,AGG\n",
    "ticker_df = api.get_barset(\n",
    "    tickers,\n",
    "    timeframe,\n",
    "    limit=None,\n",
    "    start=start_date,\n",
    "    end=end_date,\n",
    "    after=None,\n",
    "    until=None,\n",
    ").df\n",
    "\n",
    "# Use the `drop` function to get only close price of SPY AGG\n",
    "ticker_df.drop(columns=['open', 'high', 'low', 'volume'], level=1, inplace=True)\n",
    "ticker_df"
   ]
  },
  {
   "cell_type": "markdown",
   "metadata": {},
   "source": [
    "# Monte Carlo Simulation\n",
    "\n",
    "In this step, you will run Monte Carlo Simulations for your portfolio to model portfolio performance at different retirement ages. \n",
    "\n",
    "Complete the following steps:\n",
    "1. Calculate the daily returns for the SPY and AGG closing prices.\n",
    "2. Calculate volatility for both the SPY and AGG closing prices.\n",
    "3. Find the last day's closing price for both stocks and save those as variables.\n",
    "4. Run a Monte Carlo Simulation of at least 500 iterations and generate at least 30 years of closing prices\n",
    "\n",
    "### HINTS:\n",
    "There are 252 trading days per year, so the number of records to generate for each Monte Carlo run will be 252 days * 30 years"
   ]
  },
  {
   "cell_type": "code",
   "execution_count": 6,
   "metadata": {},
   "outputs": [
    {
     "data": {
      "text/html": [
       "<div>\n",
       "<style scoped>\n",
       "    .dataframe tbody tr th:only-of-type {\n",
       "        vertical-align: middle;\n",
       "    }\n",
       "\n",
       "    .dataframe tbody tr th {\n",
       "        vertical-align: top;\n",
       "    }\n",
       "\n",
       "    .dataframe thead tr th {\n",
       "        text-align: left;\n",
       "    }\n",
       "\n",
       "    .dataframe thead tr:last-of-type th {\n",
       "        text-align: right;\n",
       "    }\n",
       "</style>\n",
       "<table border=\"1\" class=\"dataframe\">\n",
       "  <thead>\n",
       "    <tr>\n",
       "      <th></th>\n",
       "      <th>AGG</th>\n",
       "      <th>SPY</th>\n",
       "    </tr>\n",
       "    <tr>\n",
       "      <th></th>\n",
       "      <th>close</th>\n",
       "      <th>close</th>\n",
       "    </tr>\n",
       "    <tr>\n",
       "      <th>time</th>\n",
       "      <th></th>\n",
       "      <th></th>\n",
       "    </tr>\n",
       "  </thead>\n",
       "  <tbody>\n",
       "    <tr>\n",
       "      <td>2019-11-15 00:00:00-05:00</td>\n",
       "      <td>NaN</td>\n",
       "      <td>NaN</td>\n",
       "    </tr>\n",
       "    <tr>\n",
       "      <td>2019-11-18 00:00:00-05:00</td>\n",
       "      <td>0.001646</td>\n",
       "      <td>0.000577</td>\n",
       "    </tr>\n",
       "    <tr>\n",
       "      <td>2019-11-19 00:00:00-05:00</td>\n",
       "      <td>0.001021</td>\n",
       "      <td>-0.000288</td>\n",
       "    </tr>\n",
       "    <tr>\n",
       "      <td>2019-11-20 00:00:00-05:00</td>\n",
       "      <td>0.002307</td>\n",
       "      <td>-0.003591</td>\n",
       "    </tr>\n",
       "    <tr>\n",
       "      <td>2019-11-21 00:00:00-05:00</td>\n",
       "      <td>-0.001389</td>\n",
       "      <td>-0.001609</td>\n",
       "    </tr>\n",
       "  </tbody>\n",
       "</table>\n",
       "</div>"
      ],
      "text/plain": [
       "                                AGG       SPY\n",
       "                              close     close\n",
       "time                                         \n",
       "2019-11-15 00:00:00-05:00       NaN       NaN\n",
       "2019-11-18 00:00:00-05:00  0.001646  0.000577\n",
       "2019-11-19 00:00:00-05:00  0.001021 -0.000288\n",
       "2019-11-20 00:00:00-05:00  0.002307 -0.003591\n",
       "2019-11-21 00:00:00-05:00 -0.001389 -0.001609"
      ]
     },
     "execution_count": 6,
     "metadata": {},
     "output_type": "execute_result"
    }
   ],
   "source": [
    "# Calculate the daily roi for the stocks\n",
    "# Use the `pct_change` function to calculate daily returns of `SPY` and `AGG`.\n",
    "daily_returns = ticker_df.pct_change()\n",
    "daily_returns.head()"
   ]
  },
  {
   "cell_type": "code",
   "execution_count": 7,
   "metadata": {},
   "outputs": [],
   "source": [
    "#Calculate average daily return for each stock \n",
    "#These will be used in Monte Carlo Simulation\n",
    "avg_daily_return_AGG = daily_returns.mean()['AGG']['close']\n",
    "avg_daily_return_SPY = daily_returns.mean()['SPY']['close']"
   ]
  },
  {
   "cell_type": "code",
   "execution_count": 8,
   "metadata": {},
   "outputs": [],
   "source": [
    "# Calculate the standard deviation of daily returns for AGG and SPY\n",
    "#These will be used in Monte Carlo Simulation\n",
    "std_dev_daily_return_AGG = daily_returns.std()['AGG']['close']\n",
    "std_dev_daily_return_SPY = daily_returns.std()['SPY']['close']"
   ]
  },
  {
   "cell_type": "code",
   "execution_count": 9,
   "metadata": {},
   "outputs": [
    {
     "data": {
      "text/plain": [
       "time\n",
       "2019-11-15 00:00:00-05:00         NaN\n",
       "2019-11-18 00:00:00-05:00    0.001005\n",
       "2019-11-19 00:00:00-05:00    0.000235\n",
       "2019-11-20 00:00:00-05:00   -0.001232\n",
       "2019-11-21 00:00:00-05:00   -0.001521\n",
       "dtype: float64"
      ]
     },
     "execution_count": 9,
     "metadata": {},
     "output_type": "execute_result"
    }
   ],
   "source": [
    "# Portfolio Daily Returns\n",
    "#weights show 40% AGG in portfolio and 60% SPY in portfolio\n",
    "weights = [0.4, 0.6]\n",
    "portfolio_daily_returns = daily_returns.dot(weights)\n",
    "portfolio_daily_returns.head()"
   ]
  },
  {
   "cell_type": "code",
   "execution_count": 10,
   "metadata": {},
   "outputs": [
    {
     "data": {
      "text/plain": [
       "AGG  close    0.134605\n",
       "SPY  close    0.475250\n",
       "dtype: float64"
      ]
     },
     "execution_count": 10,
     "metadata": {},
     "output_type": "execute_result"
    }
   ],
   "source": [
    "# Calculate volatility of AGG and SPY\n",
    "volatility = daily_returns.std() * np.sqrt(252)\n",
    "volatility"
   ]
  },
  {
   "cell_type": "code",
   "execution_count": 11,
   "metadata": {},
   "outputs": [],
   "source": [
    "# Save the last day's closing price\n",
    "AGG_lastclose=ticker_df[\"AGG\"][\"close\"][-1]\n",
    "SPY_lastclose=ticker_df[\"SPY\"][\"close\"][-1]"
   ]
  },
  {
   "cell_type": "code",
   "execution_count": 12,
   "metadata": {},
   "outputs": [],
   "source": [
    "# Setup the Monte Carlo Parameters\n",
    "number_simulations = 500\n",
    "number_records = 252 * 30\n",
    "monte_carlo = pd.DataFrame()\n",
    "portfolio_cumulative_returns = pd.DataFrame()"
   ]
  },
  {
   "cell_type": "code",
   "execution_count": 38,
   "metadata": {},
   "outputs": [
    {
     "data": {
      "text/html": [
       "<div>\n",
       "<style scoped>\n",
       "    .dataframe tbody tr th:only-of-type {\n",
       "        vertical-align: middle;\n",
       "    }\n",
       "\n",
       "    .dataframe tbody tr th {\n",
       "        vertical-align: top;\n",
       "    }\n",
       "\n",
       "    .dataframe thead th {\n",
       "        text-align: right;\n",
       "    }\n",
       "</style>\n",
       "<table border=\"1\" class=\"dataframe\">\n",
       "  <thead>\n",
       "    <tr style=\"text-align: right;\">\n",
       "      <th></th>\n",
       "      <th>0</th>\n",
       "      <th>1</th>\n",
       "      <th>2</th>\n",
       "      <th>3</th>\n",
       "      <th>4</th>\n",
       "      <th>5</th>\n",
       "      <th>6</th>\n",
       "      <th>7</th>\n",
       "      <th>8</th>\n",
       "      <th>9</th>\n",
       "      <th>...</th>\n",
       "      <th>490</th>\n",
       "      <th>491</th>\n",
       "      <th>492</th>\n",
       "      <th>493</th>\n",
       "      <th>494</th>\n",
       "      <th>495</th>\n",
       "      <th>496</th>\n",
       "      <th>497</th>\n",
       "      <th>498</th>\n",
       "      <th>499</th>\n",
       "    </tr>\n",
       "  </thead>\n",
       "  <tbody>\n",
       "    <tr>\n",
       "      <td>0</td>\n",
       "      <td>1.000000</td>\n",
       "      <td>1.000000</td>\n",
       "      <td>1.000000</td>\n",
       "      <td>1.000000</td>\n",
       "      <td>1.000000</td>\n",
       "      <td>1.000000</td>\n",
       "      <td>1.000000</td>\n",
       "      <td>1.000000</td>\n",
       "      <td>1.000000</td>\n",
       "      <td>1.000000</td>\n",
       "      <td>...</td>\n",
       "      <td>1.000000</td>\n",
       "      <td>1.000000</td>\n",
       "      <td>1.000000</td>\n",
       "      <td>1.000000</td>\n",
       "      <td>1.000000</td>\n",
       "      <td>1.000000</td>\n",
       "      <td>1.000000</td>\n",
       "      <td>1.000000</td>\n",
       "      <td>1.000000</td>\n",
       "      <td>1.000000</td>\n",
       "    </tr>\n",
       "    <tr>\n",
       "      <td>1</td>\n",
       "      <td>1.002487</td>\n",
       "      <td>0.989744</td>\n",
       "      <td>0.968549</td>\n",
       "      <td>0.994621</td>\n",
       "      <td>0.983090</td>\n",
       "      <td>0.988902</td>\n",
       "      <td>1.001354</td>\n",
       "      <td>1.021536</td>\n",
       "      <td>0.987778</td>\n",
       "      <td>1.032972</td>\n",
       "      <td>...</td>\n",
       "      <td>0.993521</td>\n",
       "      <td>0.996405</td>\n",
       "      <td>1.031859</td>\n",
       "      <td>0.982689</td>\n",
       "      <td>0.994122</td>\n",
       "      <td>0.994782</td>\n",
       "      <td>0.996492</td>\n",
       "      <td>1.003247</td>\n",
       "      <td>0.966696</td>\n",
       "      <td>0.999138</td>\n",
       "    </tr>\n",
       "    <tr>\n",
       "      <td>2</td>\n",
       "      <td>0.997476</td>\n",
       "      <td>0.982876</td>\n",
       "      <td>0.950776</td>\n",
       "      <td>0.987053</td>\n",
       "      <td>0.991765</td>\n",
       "      <td>0.963193</td>\n",
       "      <td>0.999440</td>\n",
       "      <td>1.013527</td>\n",
       "      <td>0.966288</td>\n",
       "      <td>1.068574</td>\n",
       "      <td>...</td>\n",
       "      <td>0.977776</td>\n",
       "      <td>0.996583</td>\n",
       "      <td>1.044907</td>\n",
       "      <td>0.999416</td>\n",
       "      <td>0.962518</td>\n",
       "      <td>0.977974</td>\n",
       "      <td>1.009598</td>\n",
       "      <td>1.022934</td>\n",
       "      <td>0.968788</td>\n",
       "      <td>1.015408</td>\n",
       "    </tr>\n",
       "    <tr>\n",
       "      <td>3</td>\n",
       "      <td>0.998300</td>\n",
       "      <td>0.965559</td>\n",
       "      <td>0.950389</td>\n",
       "      <td>0.988527</td>\n",
       "      <td>0.992474</td>\n",
       "      <td>0.944798</td>\n",
       "      <td>0.992940</td>\n",
       "      <td>1.022695</td>\n",
       "      <td>0.958556</td>\n",
       "      <td>1.065151</td>\n",
       "      <td>...</td>\n",
       "      <td>0.962390</td>\n",
       "      <td>1.015716</td>\n",
       "      <td>1.030707</td>\n",
       "      <td>1.002125</td>\n",
       "      <td>0.964886</td>\n",
       "      <td>0.967233</td>\n",
       "      <td>1.022880</td>\n",
       "      <td>1.019895</td>\n",
       "      <td>0.975772</td>\n",
       "      <td>1.014499</td>\n",
       "    </tr>\n",
       "    <tr>\n",
       "      <td>4</td>\n",
       "      <td>0.980697</td>\n",
       "      <td>0.973480</td>\n",
       "      <td>0.944447</td>\n",
       "      <td>1.015268</td>\n",
       "      <td>0.988569</td>\n",
       "      <td>0.937588</td>\n",
       "      <td>0.980583</td>\n",
       "      <td>1.001434</td>\n",
       "      <td>0.959086</td>\n",
       "      <td>1.080057</td>\n",
       "      <td>...</td>\n",
       "      <td>0.947912</td>\n",
       "      <td>1.051530</td>\n",
       "      <td>1.008316</td>\n",
       "      <td>1.015047</td>\n",
       "      <td>0.959159</td>\n",
       "      <td>0.981792</td>\n",
       "      <td>1.054843</td>\n",
       "      <td>1.023565</td>\n",
       "      <td>0.958142</td>\n",
       "      <td>1.050695</td>\n",
       "    </tr>\n",
       "    <tr>\n",
       "      <td>...</td>\n",
       "      <td>...</td>\n",
       "      <td>...</td>\n",
       "      <td>...</td>\n",
       "      <td>...</td>\n",
       "      <td>...</td>\n",
       "      <td>...</td>\n",
       "      <td>...</td>\n",
       "      <td>...</td>\n",
       "      <td>...</td>\n",
       "      <td>...</td>\n",
       "      <td>...</td>\n",
       "      <td>...</td>\n",
       "      <td>...</td>\n",
       "      <td>...</td>\n",
       "      <td>...</td>\n",
       "      <td>...</td>\n",
       "      <td>...</td>\n",
       "      <td>...</td>\n",
       "      <td>...</td>\n",
       "      <td>...</td>\n",
       "      <td>...</td>\n",
       "    </tr>\n",
       "    <tr>\n",
       "      <td>7556</td>\n",
       "      <td>0.026613</td>\n",
       "      <td>0.001353</td>\n",
       "      <td>0.047357</td>\n",
       "      <td>0.050258</td>\n",
       "      <td>0.124452</td>\n",
       "      <td>0.015685</td>\n",
       "      <td>0.037712</td>\n",
       "      <td>0.005951</td>\n",
       "      <td>0.164305</td>\n",
       "      <td>0.033449</td>\n",
       "      <td>...</td>\n",
       "      <td>0.064858</td>\n",
       "      <td>0.156596</td>\n",
       "      <td>0.008523</td>\n",
       "      <td>0.027664</td>\n",
       "      <td>0.074081</td>\n",
       "      <td>0.016779</td>\n",
       "      <td>0.113756</td>\n",
       "      <td>0.099017</td>\n",
       "      <td>0.071032</td>\n",
       "      <td>0.282486</td>\n",
       "    </tr>\n",
       "    <tr>\n",
       "      <td>7557</td>\n",
       "      <td>0.027163</td>\n",
       "      <td>0.001371</td>\n",
       "      <td>0.045510</td>\n",
       "      <td>0.048060</td>\n",
       "      <td>0.125665</td>\n",
       "      <td>0.015904</td>\n",
       "      <td>0.037273</td>\n",
       "      <td>0.006053</td>\n",
       "      <td>0.168392</td>\n",
       "      <td>0.033847</td>\n",
       "      <td>...</td>\n",
       "      <td>0.063216</td>\n",
       "      <td>0.155886</td>\n",
       "      <td>0.008753</td>\n",
       "      <td>0.026649</td>\n",
       "      <td>0.074964</td>\n",
       "      <td>0.016995</td>\n",
       "      <td>0.113525</td>\n",
       "      <td>0.098385</td>\n",
       "      <td>0.073218</td>\n",
       "      <td>0.279107</td>\n",
       "    </tr>\n",
       "    <tr>\n",
       "      <td>7558</td>\n",
       "      <td>0.027469</td>\n",
       "      <td>0.001340</td>\n",
       "      <td>0.044603</td>\n",
       "      <td>0.047791</td>\n",
       "      <td>0.122314</td>\n",
       "      <td>0.015822</td>\n",
       "      <td>0.038269</td>\n",
       "      <td>0.006059</td>\n",
       "      <td>0.169727</td>\n",
       "      <td>0.034030</td>\n",
       "      <td>...</td>\n",
       "      <td>0.065308</td>\n",
       "      <td>0.152700</td>\n",
       "      <td>0.008772</td>\n",
       "      <td>0.025759</td>\n",
       "      <td>0.072401</td>\n",
       "      <td>0.017414</td>\n",
       "      <td>0.113008</td>\n",
       "      <td>0.096712</td>\n",
       "      <td>0.071928</td>\n",
       "      <td>0.280474</td>\n",
       "    </tr>\n",
       "    <tr>\n",
       "      <td>7559</td>\n",
       "      <td>0.026833</td>\n",
       "      <td>0.001370</td>\n",
       "      <td>0.045164</td>\n",
       "      <td>0.047957</td>\n",
       "      <td>0.120607</td>\n",
       "      <td>0.015274</td>\n",
       "      <td>0.038421</td>\n",
       "      <td>0.006025</td>\n",
       "      <td>0.172238</td>\n",
       "      <td>0.033359</td>\n",
       "      <td>...</td>\n",
       "      <td>0.065188</td>\n",
       "      <td>0.153528</td>\n",
       "      <td>0.008826</td>\n",
       "      <td>0.025784</td>\n",
       "      <td>0.069618</td>\n",
       "      <td>0.017069</td>\n",
       "      <td>0.114626</td>\n",
       "      <td>0.098559</td>\n",
       "      <td>0.071989</td>\n",
       "      <td>0.287339</td>\n",
       "    </tr>\n",
       "    <tr>\n",
       "      <td>7560</td>\n",
       "      <td>0.027461</td>\n",
       "      <td>0.001341</td>\n",
       "      <td>0.043839</td>\n",
       "      <td>0.047397</td>\n",
       "      <td>0.119470</td>\n",
       "      <td>0.014974</td>\n",
       "      <td>0.037998</td>\n",
       "      <td>0.005956</td>\n",
       "      <td>0.168428</td>\n",
       "      <td>0.033774</td>\n",
       "      <td>...</td>\n",
       "      <td>0.066232</td>\n",
       "      <td>0.158435</td>\n",
       "      <td>0.008940</td>\n",
       "      <td>0.025857</td>\n",
       "      <td>0.069289</td>\n",
       "      <td>0.017165</td>\n",
       "      <td>0.113104</td>\n",
       "      <td>0.102968</td>\n",
       "      <td>0.070872</td>\n",
       "      <td>0.279397</td>\n",
       "    </tr>\n",
       "  </tbody>\n",
       "</table>\n",
       "<p>7561 rows × 500 columns</p>\n",
       "</div>"
      ],
      "text/plain": [
       "           0         1         2         3         4         5         6    \\\n",
       "0     1.000000  1.000000  1.000000  1.000000  1.000000  1.000000  1.000000   \n",
       "1     1.002487  0.989744  0.968549  0.994621  0.983090  0.988902  1.001354   \n",
       "2     0.997476  0.982876  0.950776  0.987053  0.991765  0.963193  0.999440   \n",
       "3     0.998300  0.965559  0.950389  0.988527  0.992474  0.944798  0.992940   \n",
       "4     0.980697  0.973480  0.944447  1.015268  0.988569  0.937588  0.980583   \n",
       "...        ...       ...       ...       ...       ...       ...       ...   \n",
       "7556  0.026613  0.001353  0.047357  0.050258  0.124452  0.015685  0.037712   \n",
       "7557  0.027163  0.001371  0.045510  0.048060  0.125665  0.015904  0.037273   \n",
       "7558  0.027469  0.001340  0.044603  0.047791  0.122314  0.015822  0.038269   \n",
       "7559  0.026833  0.001370  0.045164  0.047957  0.120607  0.015274  0.038421   \n",
       "7560  0.027461  0.001341  0.043839  0.047397  0.119470  0.014974  0.037998   \n",
       "\n",
       "           7         8         9    ...       490       491       492  \\\n",
       "0     1.000000  1.000000  1.000000  ...  1.000000  1.000000  1.000000   \n",
       "1     1.021536  0.987778  1.032972  ...  0.993521  0.996405  1.031859   \n",
       "2     1.013527  0.966288  1.068574  ...  0.977776  0.996583  1.044907   \n",
       "3     1.022695  0.958556  1.065151  ...  0.962390  1.015716  1.030707   \n",
       "4     1.001434  0.959086  1.080057  ...  0.947912  1.051530  1.008316   \n",
       "...        ...       ...       ...  ...       ...       ...       ...   \n",
       "7556  0.005951  0.164305  0.033449  ...  0.064858  0.156596  0.008523   \n",
       "7557  0.006053  0.168392  0.033847  ...  0.063216  0.155886  0.008753   \n",
       "7558  0.006059  0.169727  0.034030  ...  0.065308  0.152700  0.008772   \n",
       "7559  0.006025  0.172238  0.033359  ...  0.065188  0.153528  0.008826   \n",
       "7560  0.005956  0.168428  0.033774  ...  0.066232  0.158435  0.008940   \n",
       "\n",
       "           493       494       495       496       497       498       499  \n",
       "0     1.000000  1.000000  1.000000  1.000000  1.000000  1.000000  1.000000  \n",
       "1     0.982689  0.994122  0.994782  0.996492  1.003247  0.966696  0.999138  \n",
       "2     0.999416  0.962518  0.977974  1.009598  1.022934  0.968788  1.015408  \n",
       "3     1.002125  0.964886  0.967233  1.022880  1.019895  0.975772  1.014499  \n",
       "4     1.015047  0.959159  0.981792  1.054843  1.023565  0.958142  1.050695  \n",
       "...        ...       ...       ...       ...       ...       ...       ...  \n",
       "7556  0.027664  0.074081  0.016779  0.113756  0.099017  0.071032  0.282486  \n",
       "7557  0.026649  0.074964  0.016995  0.113525  0.098385  0.073218  0.279107  \n",
       "7558  0.025759  0.072401  0.017414  0.113008  0.096712  0.071928  0.280474  \n",
       "7559  0.025784  0.069618  0.017069  0.114626  0.098559  0.071989  0.287339  \n",
       "7560  0.025857  0.069289  0.017165  0.113104  0.102968  0.070872  0.279397  \n",
       "\n",
       "[7561 rows x 500 columns]"
      ]
     },
     "execution_count": 38,
     "metadata": {},
     "output_type": "execute_result"
    }
   ],
   "source": [
    "# Run the Monte Carlo Simulation\n",
    "for n in range(number_simulations):\n",
    "    # Initialize the simulated prices list with the last closing price of `AGG` and `SPY`\n",
    "    simulated_AGG_prices = [AGG_lastclose]\n",
    "    simulated_SPY_prices = [SPY_lastclose]\n",
    "    \n",
    "    # Simulate the returns for 252 trading days * 30 years = 7650 days of closing prices\n",
    "    for day in range(number_records):\n",
    "        \n",
    "        # Calculate the simulated price using the last price within the list\n",
    "        simulated_AGG_price = simulated_AGG_prices[-1] * (1 + np.random.normal(avg_daily_return_AGG, std_dev_daily_return_AGG))\n",
    "        simulated_SPY_price = simulated_SPY_prices[-1] * (1 + np.random.normal(avg_daily_return_SPY, std_dev_daily_return_SPY))\n",
    "       \n",
    "        # Add the simulated price to the list of prices\n",
    "        simulated_AGG_prices.append(simulated_AGG_price)\n",
    "        simulated_SPY_prices.append(simulated_SPY_price)\n",
    "    \n",
    "    # Add simulated prices of each simulation to DataFrame\n",
    "    monte_carlo[\"AGG prices\"] = pd.Series(simulated_AGG_prices)\n",
    "    monte_carlo[\"SPY prices\"] = pd.Series(simulated_SPY_prices)  \n",
    "    \n",
    "    # Calculate the daily returns of simulated prices\n",
    "    monte_carlo_returns = monte_carlo.pct_change()\n",
    "    \n",
    "    # Set the portfolio weights (40% AGG; 60% SPY;)\n",
    "    weights = [0.4, 0.6]\n",
    "    \n",
    "    # Use the `dot` function with the weights to multiply weights with each column's simulated daily returns\n",
    "    #This will give appropriate weight to the returns from each stock\n",
    "    portfolio_returns = monte_carlo_returns.dot(weights)\n",
    "    \n",
    "    # Calculate the normalized, cumulative return series\n",
    "    portfolio_cumulative_returns[n]= (1 + portfolio_returns.fillna(0)).cumprod()\n",
    "    \n",
    "# Print records from the DataFrame\n",
    "portfolio_cumulative_returns"
   ]
  },
  {
   "cell_type": "code",
   "execution_count": 16,
   "metadata": {},
   "outputs": [
    {
     "data": {
      "text/plain": [
       "<matplotlib.axes._subplots.AxesSubplot at 0x11ec16790>"
      ]
     },
     "execution_count": 16,
     "metadata": {},
     "output_type": "execute_result"
    },
    {
     "data": {
      "image/png": "[encoded data removed]",
      "text/plain": [
       "<Figure size 432x288 with 1 Axes>"
      ]
     },
     "metadata": {
      "needs_background": "light"
     },
     "output_type": "display_data"
    }
   ],
   "source": [
    "# Visualize the Simulation\n",
    "# Use the `plot` function to plot 500 simulations of the potential trajectories of the portfolio based on 252 trading days\n",
    "plot_title = f\"{n+1} Simulations of Cumulative Portfolio Return Trajectories Over the Next 30 years (7560 Trading Days)\"\n",
    "portfolio_cumulative_returns.plot(legend=None, title=plot_title)"
   ]
  },
  {
   "cell_type": "code",
   "execution_count": 50,
   "metadata": {},
   "outputs": [
    {
     "data": {
      "text/plain": [
       "0    0.027461\n",
       "1    0.001341\n",
       "2    0.043839\n",
       "3    0.047397\n",
       "4    0.119470\n",
       "Name: 7560, dtype: float64"
      ]
     },
     "execution_count": 50,
     "metadata": {},
     "output_type": "execute_result"
    }
   ],
   "source": [
    "# Select the last row for the cumulative returns (cumulative returns at 30 years or 7560 trading days)\n",
    "ending_cumulative_returns = portfolio_cumulative_returns.iloc[-1, :]\n",
    "ending_cumulative_returns.head()"
   ]
  },
  {
   "cell_type": "code",
   "execution_count": 19,
   "metadata": {},
   "outputs": [
    {
     "data": {
      "text/plain": [
       "0    0.564709\n",
       "1    0.017960\n",
       "2    0.184831\n",
       "3    0.460177\n",
       "4    0.503537\n",
       "Name: 5041, dtype: float64"
      ]
     },
     "execution_count": 19,
     "metadata": {},
     "output_type": "execute_result"
    }
   ],
   "source": [
    "# Select the row for the cumulative returns (cumulative returns at 20 years or 5040 trading days )\n",
    "yr20_cumulative_returns = portfolio_cumulative_returns.iloc[5041, :]\n",
    "yr20_cumulative_returns.head()"
   ]
  },
  {
   "cell_type": "code",
   "execution_count": 20,
   "metadata": {},
   "outputs": [
    {
     "data": {
      "text/plain": [
       "0.05    0.002841\n",
       "0.95    0.671261\n",
       "Name: 7560, dtype: float64"
      ]
     },
     "execution_count": 20,
     "metadata": {},
     "output_type": "execute_result"
    }
   ],
   "source": [
    "# Display the 90% confidence interval for the ending returns\n",
    "# Use the `quantile` function to calculate the 90% confidence interval for simulated ending returns\n",
    "confidence_interval = ending_cumulative_returns.quantile(q=[0.05, 0.95])\n",
    "confidence_interval"
   ]
  },
  {
   "cell_type": "code",
   "execution_count": 27,
   "metadata": {},
   "outputs": [
    {
     "data": {
      "text/plain": [
       "<matplotlib.lines.Line2D at 0x1353acd10>"
      ]
     },
     "execution_count": 27,
     "metadata": {},
     "output_type": "execute_result"
    },
    {
     "data": {
      "image/png": "[encoded data removed]",
      "text/plain": [
       "<Figure size 432x288 with 1 Axes>"
      ]
     },
     "metadata": {
      "needs_background": "light"
     },
     "output_type": "display_data"
    }
   ],
   "source": [
    "# Visualize the distribution of the ending returns\n",
    "# Create a probability distribution histogram of simulated ending prices\n",
    "# with markings for a 90% confidence interval\n",
    "plt.figure();\n",
    "ending_cumulative_returns.plot(kind='hist', density=True, bins=20)\n",
    "plt.axvline(confidence_interval.iloc[0], color='r')\n",
    "plt.axvline(confidence_interval.iloc[1], color='r')"
   ]
  },
  {
   "cell_type": "markdown",
   "metadata": {},
   "source": [
    "---"
   ]
  },
  {
   "cell_type": "markdown",
   "metadata": {},
   "source": [
    "# Retirement Analysis\n",
    "\n",
    "In this section, you will use the monte carlo model to answer the following retirement planning questions:\n",
    "\n",
    "1. What are the expected cumulative returns at 30 years for the 10th, 50th, and 90th percentiles?\n",
    "2. Given an initial investment of `$20,000`, what is the expected portfolio return in dollars at the 10th, 50th, and 90th percentiles?\n",
    "3. Given the current projected annual income from the Plaid analysis, will a 4% withdraw rate from the retirement portfolio meet or exceed that value at the 10th percentile?\n",
    "4. How would a 50% increase in the initial investment amount affect the 4% retirement withdrawal?"
   ]
  },
  {
   "cell_type": "markdown",
   "metadata": {},
   "source": [
    "### What are the expected cumulative returns at 30 years for the 10th, 50th, and 90th percentiles?"
   ]
  },
  {
   "cell_type": "code",
   "execution_count": 28,
   "metadata": {},
   "outputs": [
    {
     "data": {
      "text/plain": [
       "0.05    0.002841\n",
       "0.95    0.671261\n",
       "Name: 7560, dtype: float64"
      ]
     },
     "execution_count": 28,
     "metadata": {},
     "output_type": "execute_result"
    }
   ],
   "source": [
    "#bring down ending_cumulative_returns for the last row of monte_carlo data @ 30 years or 7650 trading days\n",
    "\n",
    "# Display the 90% confidence interval for the ending returns\n",
    "# Use the `quantile` function to calculate the 90% confidence interval for simulated ending returns\n",
    "confidence_interval_90 = ending_cumulative_returns.quantile(q=[0.05, 0.95])\n",
    "confidence_interval_90"
   ]
  },
  {
   "cell_type": "code",
   "execution_count": 29,
   "metadata": {},
   "outputs": [
    {
     "data": {
      "text/plain": [
       "0.25    0.014927\n",
       "0.75    0.145695\n",
       "Name: 7560, dtype: float64"
      ]
     },
     "execution_count": 29,
     "metadata": {},
     "output_type": "execute_result"
    }
   ],
   "source": [
    "# Display the 50% confidence interval for the ending returns\n",
    "# Use the `quantile` function to calculate the 90% confidence interval for simulated ending returns\n",
    "confidence_interval_50 = ending_cumulative_returns.quantile(q=[0.25, 0.75])\n",
    "confidence_interval_50"
   ]
  },
  {
   "cell_type": "code",
   "execution_count": 30,
   "metadata": {},
   "outputs": [
    {
     "data": {
      "text/plain": [
       "0.45    0.036847\n",
       "0.55    0.055971\n",
       "Name: 7560, dtype: float64"
      ]
     },
     "execution_count": 30,
     "metadata": {},
     "output_type": "execute_result"
    }
   ],
   "source": [
    "# Display the 10% confidence interval for the ending returns\n",
    "# Use the `quantile` function to calculate the 90% confidence interval for simulated ending returns\n",
    "confidence_interval_10 = ending_cumulative_returns.quantile(q=[0.45, 0.55])\n",
    "confidence_interval_10"
   ]
  },
  {
   "cell_type": "markdown",
   "metadata": {},
   "source": [
    "### Given an initial investment of `$20,000`, what is the expected portfolio return in dollars at the 10th, 50th, and 90th percentiles?"
   ]
  },
  {
   "cell_type": "code",
   "execution_count": 31,
   "metadata": {},
   "outputs": [],
   "source": [
    "# Set initial investment\n",
    "initial_investment = 20000"
   ]
  },
  {
   "cell_type": "code",
   "execution_count": 51,
   "metadata": {},
   "outputs": [
    {
     "name": "stdout",
     "output_type": "stream",
     "text": [
      "0.2793970298913765\n"
     ]
    }
   ],
   "source": [
    "last_return=ending_cumulative_returns[499]\n",
    "print(last_return)"
   ]
  },
  {
   "cell_type": "code",
   "execution_count": 53,
   "metadata": {},
   "outputs": [
    {
     "name": "stdout",
     "output_type": "stream",
     "text": [
      "There is a 90% chance that an initial investment of $20000 in the portfolio over the next 252 * 30 trading days will end within in the range of $203.35811428014495 and $48050.67358767656\n"
     ]
    }
   ],
   "source": [
    "# For the 90th Percentile\n",
    "# Calculate investment profit/loss of lower and upper bound cumulative portfolio returns\n",
    "investment_pnl_lower_bound_90 = initial_investment * ((confidence_interval_90.iloc[0]-last_return)/last_return)\n",
    "investment_pnl_upper_bound_90 = initial_investment * ((confidence_interval_90.iloc[1]-last_return)/last_return)\n",
    "\n",
    "# Add the initial investment to the cumulative profit/loss of lower and upper bound\n",
    "ending_investment_lower_bound_90 = initial_investment + investment_pnl_lower_bound_90\n",
    "ending_investment_upper_bound_90 = initial_investment + investment_pnl_upper_bound_90\n",
    "\n",
    "# Print the results\n",
    "print(f\"There is a 90% chance that an initial investment of ${initial_investment} in the portfolio\"\n",
    "      f\" over the next 252 * 30 trading days will end within in the range of\"\n",
    "      f\" ${ending_investment_lower_bound_90} and ${ending_investment_upper_bound_90}\")"
   ]
  },
  {
   "cell_type": "code",
   "execution_count": 54,
   "metadata": {},
   "outputs": [
    {
     "name": "stdout",
     "output_type": "stream",
     "text": [
      "There is a 50% chance that an initial investment of $20000 in the portfolio over the next 252 * 30 trading days will end within in the range of $1068.548443293137 and $10429.210026336072\n"
     ]
    }
   ],
   "source": [
    "# For the 50th Percentile\n",
    "# Calculate investment profit/loss of lower and upper bound cumulative portfolio returns\n",
    "investment_pnl_lower_bound_50 = initial_investment * ((confidence_interval_50.iloc[0]-last_return)/last_return)\n",
    "investment_pnl_upper_bound_50 = initial_investment * ((confidence_interval_50.iloc[1]-last_return)/last_return)\n",
    "\n",
    "# Add the initial investment to the cumulative profit/loss of lower and upper bound\n",
    "ending_investment_lower_bound_50 = initial_investment + investment_pnl_lower_bound_50\n",
    "ending_investment_upper_bound_50 = initial_investment + investment_pnl_upper_bound_50\n",
    "\n",
    "\n",
    "# Print the results\n",
    "print(f\"There is a 50% chance that an initial investment of ${initial_investment} in the portfolio\"\n",
    "      f\" over the next 252 * 30 trading days will end within in the range of\"\n",
    "      f\" ${ending_investment_lower_bound_50} and ${ending_investment_upper_bound_50}\")"
   ]
  },
  {
   "cell_type": "code",
   "execution_count": 55,
   "metadata": {},
   "outputs": [
    {
     "name": "stdout",
     "output_type": "stream",
     "text": [
      "There is a 10% chance that an initial investment of $20000 in the portfolio over the next 252 * 30 trading days will end within in the range of $2637.578362019438 and $4006.5221063742883\n"
     ]
    }
   ],
   "source": [
    "# For the 10th Percentile\n",
    "# Calculate investment profit/loss of lower and upper bound cumulative portfolio returns\n",
    "investment_pnl_lower_bound_10 = initial_investment * ((confidence_interval_10.iloc[0]-last_return)/last_return)\n",
    "investment_pnl_upper_bound_10 = initial_investment * ((confidence_interval_10.iloc[1]-last_return)/last_return)\n",
    "\n",
    "# Add the initial investment to the cumulative profit/loss of lower and upper bound\n",
    "ending_investment_lower_bound_10 = initial_investment + investment_pnl_lower_bound_10\n",
    "ending_investment_upper_bound_10 = initial_investment + investment_pnl_upper_bound_10\n",
    "\n",
    "\n",
    "# Print the results\n",
    "print(f\"There is a 10% chance that an initial investment of ${initial_investment} in the portfolio\"\n",
    "      f\" over the next 252 * 30 trading days will end within in the range of\"\n",
    "      f\" ${ending_investment_lower_bound_10} and ${ending_investment_upper_bound_10}\")"
   ]
  },
  {
   "cell_type": "markdown",
   "metadata": {},
   "source": [
    "### Given the current projected annual income from the Plaid analysis, will a 4% withdraw rate from the retirement portfolio meet or exceed that value at the 10th percentile?\n",
    "\n",
    "Note: This is effectively saying that 90% of the expected returns will be greater than the return at the 10th percentile, so this can help measure the uncertainty about having enough funds at retirement"
   ]
  },
  {
   "cell_type": "code",
   "execution_count": 56,
   "metadata": {},
   "outputs": [
    {
     "name": "stdout",
     "output_type": "stream",
     "text": [
      "A 4% withdraw rate from the retirement portfolio would fall between $105.50313448077752 and $160.26088425497153 depending on the final value of the portfolio at 30 years. Both of these values are lower than the projected yearly income of $6085. This means there is a 10% chance that the withdraw from the portfolio will not meet and will not exceed the value of the projected annual income.\n"
     ]
    }
   ],
   "source": [
    "#Will 4% withdraw rate from retirement meet or exceed value at the 10th percentile.\n",
    "#4% withdraw from retirement portfolio value vs. income estimated in plaid. \n",
    "#Project yearly income was $6085 \n",
    "#Calculated in account_summary.ipynb\n",
    "proj_annual_income=6085\n",
    "#Calculate 4% of the retirement portfolio value at the 10th percentile\n",
    "retirement_lowerbound_10_4percent=ending_investment_lower_bound_10*(4/100)\n",
    "retirement_upperbound_10_4percent=ending_investment_upper_bound_10*(4/100)\n",
    "\n",
    "print(f\"A 4% withdraw rate from the retirement portfolio would fall between ${retirement_lowerbound_10_4percent} and ${retirement_upperbound_10_4percent} depending on the final value of the portfolio at 30 years. Both of these values are lower than the projected yearly income of ${proj_annual_income}. This means there is a 10% chance that the withdraw from the portfolio will not meet and will not exceed the value of the projected annual income.\")"
   ]
  },
  {
   "cell_type": "markdown",
   "metadata": {},
   "source": [
    "### How would a 50% increase in the initial investment amount affect the 4% retirement withdrawal?"
   ]
  },
  {
   "cell_type": "code",
   "execution_count": 59,
   "metadata": {},
   "outputs": [
    {
     "name": "stdout",
     "output_type": "stream",
     "text": [
      "There is a 10% chance that a 50% higher initial investment of $30000.0 in the portfolio over the next 252 * 30 trading days will end within in the range of $2637.578362019438 and $4006.5221063742883\n"
     ]
    }
   ],
   "source": [
    "# Set initial investment to 1.5 x more (50% increase)\n",
    "initial_investment_raised = 20000*1.5\n",
    "# For the 10th Percentile\n",
    "# Calculate investment profit/loss of lower and upper bound cumulative portfolio returns\n",
    "investment_pnl_lower_bound_10_raised = initial_investment_raised * ((confidence_interval_10.iloc[0]-last_return)/last_return)\n",
    "investment_pnl_upper_bound_10_raised = initial_investment_raised * ((confidence_interval_10.iloc[1]-last_return)/last_return)\n",
    "\n",
    "\n",
    "# Add the initial investment to the cumulative profit/loss of lower and upper bound\n",
    "ending_investment_lower_bound_10_raised = initial_investment + investment_pnl_lower_bound_10\n",
    "ending_investment_upper_bound_10_raised = initial_investment + investment_pnl_upper_bound_10\n",
    "\n",
    "# Print the results\n",
    "print(f\"There is a 10% chance that a 50% higher initial investment of ${initial_investment_raised} in the portfolio\"\n",
    "      f\" over the next 252 * 30 trading days will end within in the range of\"\n",
    "      f\" ${ending_investment_lower_bound_10_raised} and ${ending_investment_upper_bound_10_raised}\")"
   ]
  },
  {
   "cell_type": "code",
   "execution_count": 60,
   "metadata": {},
   "outputs": [
    {
     "name": "stdout",
     "output_type": "stream",
     "text": [
      "A 4% withdraw rate from the retirement portfolio would fall between $105.50313448077752 and $160.26088425497153 depending on the final value of the portfolio at 30 years. Both of these values are lower than the projected yearly income of $6085. This means there is a 10% chance that the withdraw from the portfolio will not meet and will not exceed the value of the projected annual income.\n"
     ]
    }
   ],
   "source": [
    "#Will 4% withdraw rate from retirement meet or exceed value at the 10th percentile.\n",
    "#4% withdraw from retirement portfolio value vs. income estimated in plaid. \n",
    "#Project yearly income was $6085 \n",
    "#Calculated in account_summary.ipynb\n",
    "proj_annual_income=6085\n",
    "#Calculate 4% of the retirement portfolio value at the 10th percentile\n",
    "retirement_raised_lowerbound_10_4percent=ending_investment_lower_bound_10_raised*(4/100)\n",
    "retirement_raised_upperbound_10_4percent=ending_investment_upper_bound_10_raised*(4/100)\n",
    "\n",
    "print(f\"A 4% withdraw rate from the retirement portfolio would fall between ${retirement_raised_lowerbound_10_4percent} and ${retirement_raised_upperbound_10_4percent} depending on the final value of the portfolio at 30 years. Both of these values are lower than the projected yearly income of ${proj_annual_income}. This means there is a 10% chance that the withdraw from the portfolio will not meet and will not exceed the value of the projected annual income.\")"
   ]
  },
  {
   "cell_type": "markdown",
   "metadata": {},
   "source": [
    "### Optional Challenge\n",
    "\n",
    "In this section, you will calculate and plot the cumulative returns for the median and 90% confidence intervals. This plot shows the expected cumulative returns for any given day between the first day and the last day of investment. "
   ]
  },
  {
   "cell_type": "code",
   "execution_count": null,
   "metadata": {},
   "outputs": [],
   "source": [
    "# YOUR CODE HERE"
   ]
  }
 ],
 "metadata": {
  "kernel_info": {
   "name": "dev"
  },
  "kernelspec": {
   "display_name": "Python 3",
   "language": "python",
   "name": "python3"
  },
  "language_info": {
   "codemirror_mode": {
    "name": "ipython",
    "version": 3
   },
   "file_extension": ".py",
   "mimetype": "text/x-python",
   "name": "python",
   "nbconvert_exporter": "python",
   "pygments_lexer": "ipython3",
   "version": "3.7.4"
  },
  "nteract": {
   "version": "0.12.3"
  }
 },
 "nbformat": 4,
 "nbformat_minor": 4
}
