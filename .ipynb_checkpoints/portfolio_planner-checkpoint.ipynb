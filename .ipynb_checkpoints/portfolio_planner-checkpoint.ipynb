{
 "cells": [
  {
   "cell_type": "code",
   "execution_count": 1,
   "metadata": {},
   "outputs": [],
   "source": [
    "import numpy as np\n",
    "import pandas as pd\n",
    "import os\n",
    "from datetime import datetime, timedelta\n",
    "import matplotlib.pyplot as plt\n",
    "%matplotlib inline"
   ]
  },
  {
   "cell_type": "code",
   "execution_count": 2,
   "metadata": {},
   "outputs": [],
   "source": [
    "np.random.seed(42)"
   ]
  },
  {
   "cell_type": "markdown",
   "metadata": {},
   "source": [
    "# Portfolio Planner\n",
    "\n",
    "In this activity, you will use the ALPACA api to grab historical data for a 60/40 portfolio using `SPY` to represent the stock portion and `AGG` to represent the bonds."
   ]
  },
  {
   "cell_type": "code",
   "execution_count": 3,
   "metadata": {},
   "outputs": [],
   "source": [
    "#import alpaca \n",
    "import alpaca_trade_api as tradeapi"
   ]
  },
  {
   "cell_type": "code",
   "execution_count": 4,
   "metadata": {},
   "outputs": [],
   "source": [
    "# Load .env enviroment variables\n",
    "from dotenv import load_dotenv\n",
    "load_dotenv()\n",
    "\n",
    "# Set Alpaca API key and secret\n",
    "alpaca_api_key = os.getenv(\"ALPACA_API_KEY\")\n",
    "alpaca_secret_key = os.getenv(\"ALPACA_SECRET_KEY\")\n",
    "\n",
    "api = tradeapi.REST(alpaca_api_key, alpaca_secret_key, api_version='v2')"
   ]
  },
  {
   "cell_type": "markdown",
   "metadata": {},
   "source": [
    "# Data Collection\n",
    "\n",
    "In this step, you will need to use the ALPACA api to fetch closing prices for the `SPY` and `AGG` tickers. Save the results as a pandas DataFrame"
   ]
  },
  {
   "cell_type": "code",
   "execution_count": 5,
   "metadata": {},
   "outputs": [
    {
     "data": {
      "text/html": [
       "<div>\n",
       "<style scoped>\n",
       "    .dataframe tbody tr th:only-of-type {\n",
       "        vertical-align: middle;\n",
       "    }\n",
       "\n",
       "    .dataframe tbody tr th {\n",
       "        vertical-align: top;\n",
       "    }\n",
       "\n",
       "    .dataframe thead tr th {\n",
       "        text-align: left;\n",
       "    }\n",
       "\n",
       "    .dataframe thead tr:last-of-type th {\n",
       "        text-align: right;\n",
       "    }\n",
       "</style>\n",
       "<table border=\"1\" class=\"dataframe\">\n",
       "  <thead>\n",
       "    <tr>\n",
       "      <th></th>\n",
       "      <th>AGG</th>\n",
       "      <th>SPY</th>\n",
       "    </tr>\n",
       "    <tr>\n",
       "      <th></th>\n",
       "      <th>close</th>\n",
       "      <th>close</th>\n",
       "    </tr>\n",
       "    <tr>\n",
       "      <th>time</th>\n",
       "      <th></th>\n",
       "      <th></th>\n",
       "    </tr>\n",
       "  </thead>\n",
       "  <tbody>\n",
       "    <tr>\n",
       "      <td>2019-11-15 00:00:00-05:00</td>\n",
       "      <td>112.4100</td>\n",
       "      <td>311.82</td>\n",
       "    </tr>\n",
       "    <tr>\n",
       "      <td>2019-11-18 00:00:00-05:00</td>\n",
       "      <td>112.5950</td>\n",
       "      <td>312.00</td>\n",
       "    </tr>\n",
       "    <tr>\n",
       "      <td>2019-11-19 00:00:00-05:00</td>\n",
       "      <td>112.7100</td>\n",
       "      <td>311.91</td>\n",
       "    </tr>\n",
       "    <tr>\n",
       "      <td>2019-11-20 00:00:00-05:00</td>\n",
       "      <td>112.9700</td>\n",
       "      <td>310.79</td>\n",
       "    </tr>\n",
       "    <tr>\n",
       "      <td>2019-11-21 00:00:00-05:00</td>\n",
       "      <td>112.8131</td>\n",
       "      <td>310.29</td>\n",
       "    </tr>\n",
       "    <tr>\n",
       "      <td>...</td>\n",
       "      <td>...</td>\n",
       "      <td>...</td>\n",
       "    </tr>\n",
       "    <tr>\n",
       "      <td>2020-04-03 00:00:00-04:00</td>\n",
       "      <td>115.0000</td>\n",
       "      <td>248.21</td>\n",
       "    </tr>\n",
       "    <tr>\n",
       "      <td>2020-04-06 00:00:00-04:00</td>\n",
       "      <td>115.5800</td>\n",
       "      <td>264.97</td>\n",
       "    </tr>\n",
       "    <tr>\n",
       "      <td>2020-04-07 00:00:00-04:00</td>\n",
       "      <td>115.6900</td>\n",
       "      <td>265.10</td>\n",
       "    </tr>\n",
       "    <tr>\n",
       "      <td>2020-04-08 00:00:00-04:00</td>\n",
       "      <td>115.8100</td>\n",
       "      <td>274.07</td>\n",
       "    </tr>\n",
       "    <tr>\n",
       "      <td>2020-04-09 00:00:00-04:00</td>\n",
       "      <td>117.1100</td>\n",
       "      <td>278.24</td>\n",
       "    </tr>\n",
       "  </tbody>\n",
       "</table>\n",
       "<p>100 rows × 2 columns</p>\n",
       "</div>"
      ],
      "text/plain": [
       "                                AGG     SPY\n",
       "                              close   close\n",
       "time                                       \n",
       "2019-11-15 00:00:00-05:00  112.4100  311.82\n",
       "2019-11-18 00:00:00-05:00  112.5950  312.00\n",
       "2019-11-19 00:00:00-05:00  112.7100  311.91\n",
       "2019-11-20 00:00:00-05:00  112.9700  310.79\n",
       "2019-11-21 00:00:00-05:00  112.8131  310.29\n",
       "...                             ...     ...\n",
       "2020-04-03 00:00:00-04:00  115.0000  248.21\n",
       "2020-04-06 00:00:00-04:00  115.5800  264.97\n",
       "2020-04-07 00:00:00-04:00  115.6900  265.10\n",
       "2020-04-08 00:00:00-04:00  115.8100  274.07\n",
       "2020-04-09 00:00:00-04:00  117.1100  278.24\n",
       "\n",
       "[100 rows x 2 columns]"
      ]
     },
     "execution_count": 5,
     "metadata": {},
     "output_type": "execute_result"
    }
   ],
   "source": [
    "# Set the list of tickers\n",
    "tickers = [\"SPY\", \"AGG\"]\n",
    "\n",
    "# Set timeframe to 1 DAY for close at end of each day\n",
    "timeframe = '1D'\n",
    "\n",
    "# Set start and end datetimes of 1 year, between now and 365 days ago.\n",
    "end_date = datetime.now()\n",
    "start_date = end_date + timedelta(-365)\n",
    "\n",
    "# Get 1 year's worth of historical data for SPY,AGG\n",
    "ticker_df = api.get_barset(\n",
    "    tickers,\n",
    "    timeframe,\n",
    "    limit=None,\n",
    "    start=start_date,\n",
    "    end=end_date,\n",
    "    after=None,\n",
    "    until=None,\n",
    ").df\n",
    "\n",
    "# Use the `drop` function to get only close price of SPY AGG\n",
    "ticker_df.drop(columns=['open', 'high', 'low', 'volume'], level=1, inplace=True)\n",
    "ticker_df"
   ]
  },
  {
   "cell_type": "markdown",
   "metadata": {},
   "source": [
    "# Monte Carlo Simulation\n",
    "\n",
    "In this step, you will run Monte Carlo Simulations for your portfolio to model portfolio performance at different retirement ages. \n",
    "\n",
    "Complete the following steps:\n",
    "1. Calculate the daily returns for the SPY and AGG closing prices.\n",
    "2. Calculate volatility for both the SPY and AGG closing prices.\n",
    "3. Find the last day's closing price for both stocks and save those as variables.\n",
    "4. Run a Monte Carlo Simulation of at least 500 iterations and generate at least 30 years of closing prices\n",
    "\n",
    "### HINTS:\n",
    "There are 252 trading days per year, so the number of records to generate for each Monte Carlo run will be 252 days * 30 years"
   ]
  },
  {
   "cell_type": "code",
   "execution_count": 6,
   "metadata": {},
   "outputs": [
    {
     "data": {
      "text/html": [
       "<div>\n",
       "<style scoped>\n",
       "    .dataframe tbody tr th:only-of-type {\n",
       "        vertical-align: middle;\n",
       "    }\n",
       "\n",
       "    .dataframe tbody tr th {\n",
       "        vertical-align: top;\n",
       "    }\n",
       "\n",
       "    .dataframe thead tr th {\n",
       "        text-align: left;\n",
       "    }\n",
       "\n",
       "    .dataframe thead tr:last-of-type th {\n",
       "        text-align: right;\n",
       "    }\n",
       "</style>\n",
       "<table border=\"1\" class=\"dataframe\">\n",
       "  <thead>\n",
       "    <tr>\n",
       "      <th></th>\n",
       "      <th>AGG</th>\n",
       "      <th>SPY</th>\n",
       "    </tr>\n",
       "    <tr>\n",
       "      <th></th>\n",
       "      <th>close</th>\n",
       "      <th>close</th>\n",
       "    </tr>\n",
       "    <tr>\n",
       "      <th>time</th>\n",
       "      <th></th>\n",
       "      <th></th>\n",
       "    </tr>\n",
       "  </thead>\n",
       "  <tbody>\n",
       "    <tr>\n",
       "      <td>2019-11-15 00:00:00-05:00</td>\n",
       "      <td>NaN</td>\n",
       "      <td>NaN</td>\n",
       "    </tr>\n",
       "    <tr>\n",
       "      <td>2019-11-18 00:00:00-05:00</td>\n",
       "      <td>0.001646</td>\n",
       "      <td>0.000577</td>\n",
       "    </tr>\n",
       "    <tr>\n",
       "      <td>2019-11-19 00:00:00-05:00</td>\n",
       "      <td>0.001021</td>\n",
       "      <td>-0.000288</td>\n",
       "    </tr>\n",
       "    <tr>\n",
       "      <td>2019-11-20 00:00:00-05:00</td>\n",
       "      <td>0.002307</td>\n",
       "      <td>-0.003591</td>\n",
       "    </tr>\n",
       "    <tr>\n",
       "      <td>2019-11-21 00:00:00-05:00</td>\n",
       "      <td>-0.001389</td>\n",
       "      <td>-0.001609</td>\n",
       "    </tr>\n",
       "  </tbody>\n",
       "</table>\n",
       "</div>"
      ],
      "text/plain": [
       "                                AGG       SPY\n",
       "                              close     close\n",
       "time                                         \n",
       "2019-11-15 00:00:00-05:00       NaN       NaN\n",
       "2019-11-18 00:00:00-05:00  0.001646  0.000577\n",
       "2019-11-19 00:00:00-05:00  0.001021 -0.000288\n",
       "2019-11-20 00:00:00-05:00  0.002307 -0.003591\n",
       "2019-11-21 00:00:00-05:00 -0.001389 -0.001609"
      ]
     },
     "execution_count": 6,
     "metadata": {},
     "output_type": "execute_result"
    }
   ],
   "source": [
    "# Calculate the daily roi for the stocks\n",
    "# Use the `pct_change` function to calculate daily returns of `SPY` and `AGG`.\n",
    "daily_returns = ticker_df.pct_change()\n",
    "daily_returns.head()"
   ]
  },
  {
   "cell_type": "code",
   "execution_count": 7,
   "metadata": {},
   "outputs": [],
   "source": [
    "#Calculate average daily return for each stock \n",
    "#These will be used in Monte Carlo Simulation\n",
    "avg_daily_return_AGG = daily_returns.mean()['AGG']['close']\n",
    "avg_daily_return_SPY = daily_returns.mean()['SPY']['close']"
   ]
  },
  {
   "cell_type": "code",
   "execution_count": 8,
   "metadata": {},
   "outputs": [],
   "source": [
    "# Calculate the standard deviation of daily returns for AGG and SPY\n",
    "#These will be used in Monte Carlo Simulation\n",
    "std_dev_daily_return_AGG = daily_returns.std()['AGG']['close']\n",
    "std_dev_daily_return_SPY = daily_returns.std()['SPY']['close']"
   ]
  },
  {
   "cell_type": "code",
   "execution_count": 9,
   "metadata": {},
   "outputs": [
    {
     "data": {
      "text/plain": [
       "time\n",
       "2019-11-15 00:00:00-05:00         NaN\n",
       "2019-11-18 00:00:00-05:00    0.001218\n",
       "2019-11-19 00:00:00-05:00    0.000497\n",
       "2019-11-20 00:00:00-05:00   -0.000052\n",
       "2019-11-21 00:00:00-05:00   -0.001477\n",
       "dtype: float64"
      ]
     },
     "execution_count": 9,
     "metadata": {},
     "output_type": "execute_result"
    }
   ],
   "source": [
    "# Portfolio Daily Returns\n",
    "weights = [0.6, 0.4]\n",
    "portfolio_daily = daily_returns.dot(weights)\n",
    "portfolio_daily.head()"
   ]
  },
  {
   "cell_type": "code",
   "execution_count": 10,
   "metadata": {},
   "outputs": [
    {
     "data": {
      "text/plain": [
       "AGG  close    0.134605\n",
       "SPY  close    0.475250\n",
       "dtype: float64"
      ]
     },
     "execution_count": 10,
     "metadata": {},
     "output_type": "execute_result"
    }
   ],
   "source": [
    "# Calculate volatility of AGG and SPY\n",
    "volatility = daily_returns.std() * np.sqrt(252)\n",
    "volatility"
   ]
  },
  {
   "cell_type": "code",
   "execution_count": 11,
   "metadata": {},
   "outputs": [],
   "source": [
    "# Save the last day's closing price\n",
    "AGG_lastclose=ticker_df[\"AGG\"][\"close\"][-1]\n",
    "SPY_lastclose=ticker_df[\"SPY\"][\"close\"][-1]"
   ]
  },
  {
   "cell_type": "code",
   "execution_count": 12,
   "metadata": {},
   "outputs": [],
   "source": [
    "# Setup the Monte Carlo Parameters\n",
    "number_simulations = 500\n",
    "number_records = 252 * 30\n",
    "monte_carlo = pd.DataFrame()\n",
    "portfolio_cumulative_returns = pd.DataFrame()"
   ]
  },
  {
   "cell_type": "code",
   "execution_count": 13,
   "metadata": {},
   "outputs": [
    {
     "data": {
      "text/html": [
       "<div>\n",
       "<style scoped>\n",
       "    .dataframe tbody tr th:only-of-type {\n",
       "        vertical-align: middle;\n",
       "    }\n",
       "\n",
       "    .dataframe tbody tr th {\n",
       "        vertical-align: top;\n",
       "    }\n",
       "\n",
       "    .dataframe thead th {\n",
       "        text-align: right;\n",
       "    }\n",
       "</style>\n",
       "<table border=\"1\" class=\"dataframe\">\n",
       "  <thead>\n",
       "    <tr style=\"text-align: right;\">\n",
       "      <th></th>\n",
       "      <th>0</th>\n",
       "      <th>1</th>\n",
       "      <th>2</th>\n",
       "      <th>3</th>\n",
       "      <th>4</th>\n",
       "      <th>5</th>\n",
       "      <th>6</th>\n",
       "      <th>7</th>\n",
       "      <th>8</th>\n",
       "      <th>9</th>\n",
       "      <th>...</th>\n",
       "      <th>490</th>\n",
       "      <th>491</th>\n",
       "      <th>492</th>\n",
       "      <th>493</th>\n",
       "      <th>494</th>\n",
       "      <th>495</th>\n",
       "      <th>496</th>\n",
       "      <th>497</th>\n",
       "      <th>498</th>\n",
       "      <th>499</th>\n",
       "    </tr>\n",
       "  </thead>\n",
       "  <tbody>\n",
       "    <tr>\n",
       "      <td>0</td>\n",
       "      <td>1.000000</td>\n",
       "      <td>1.000000</td>\n",
       "      <td>1.000000</td>\n",
       "      <td>1.000000</td>\n",
       "      <td>1.000000</td>\n",
       "      <td>1.000000</td>\n",
       "      <td>1.000000</td>\n",
       "      <td>1.000000</td>\n",
       "      <td>1.000000</td>\n",
       "      <td>1.000000</td>\n",
       "      <td>...</td>\n",
       "      <td>1.000000</td>\n",
       "      <td>1.000000</td>\n",
       "      <td>1.000000</td>\n",
       "      <td>1.000000</td>\n",
       "      <td>1.000000</td>\n",
       "      <td>1.000000</td>\n",
       "      <td>1.000000</td>\n",
       "      <td>1.000000</td>\n",
       "      <td>1.000000</td>\n",
       "      <td>1.000000</td>\n",
       "    </tr>\n",
       "    <tr>\n",
       "      <td>1</td>\n",
       "      <td>1.000860</td>\n",
       "      <td>0.996504</td>\n",
       "      <td>0.990726</td>\n",
       "      <td>1.010838</td>\n",
       "      <td>1.030231</td>\n",
       "      <td>0.988798</td>\n",
       "      <td>0.997215</td>\n",
       "      <td>1.027909</td>\n",
       "      <td>1.001189</td>\n",
       "      <td>0.986111</td>\n",
       "      <td>...</td>\n",
       "      <td>1.004310</td>\n",
       "      <td>0.977416</td>\n",
       "      <td>1.006939</td>\n",
       "      <td>1.004412</td>\n",
       "      <td>0.987838</td>\n",
       "      <td>1.007584</td>\n",
       "      <td>0.999476</td>\n",
       "      <td>1.010560</td>\n",
       "      <td>0.995434</td>\n",
       "      <td>0.983455</td>\n",
       "    </tr>\n",
       "    <tr>\n",
       "      <td>2</td>\n",
       "      <td>1.022401</td>\n",
       "      <td>1.007016</td>\n",
       "      <td>0.999766</td>\n",
       "      <td>0.986816</td>\n",
       "      <td>1.024704</td>\n",
       "      <td>0.980537</td>\n",
       "      <td>0.984230</td>\n",
       "      <td>1.003746</td>\n",
       "      <td>0.997021</td>\n",
       "      <td>0.983733</td>\n",
       "      <td>...</td>\n",
       "      <td>1.012582</td>\n",
       "      <td>0.984325</td>\n",
       "      <td>1.010542</td>\n",
       "      <td>1.011950</td>\n",
       "      <td>0.989094</td>\n",
       "      <td>0.975588</td>\n",
       "      <td>0.999816</td>\n",
       "      <td>1.005351</td>\n",
       "      <td>0.988365</td>\n",
       "      <td>0.993675</td>\n",
       "    </tr>\n",
       "    <tr>\n",
       "      <td>3</td>\n",
       "      <td>1.018305</td>\n",
       "      <td>1.003802</td>\n",
       "      <td>1.000397</td>\n",
       "      <td>0.984770</td>\n",
       "      <td>1.017651</td>\n",
       "      <td>0.964630</td>\n",
       "      <td>0.994307</td>\n",
       "      <td>0.983579</td>\n",
       "      <td>0.994822</td>\n",
       "      <td>1.006714</td>\n",
       "      <td>...</td>\n",
       "      <td>1.012985</td>\n",
       "      <td>0.969344</td>\n",
       "      <td>1.013405</td>\n",
       "      <td>1.021555</td>\n",
       "      <td>0.972767</td>\n",
       "      <td>0.979209</td>\n",
       "      <td>1.013518</td>\n",
       "      <td>0.991634</td>\n",
       "      <td>0.994530</td>\n",
       "      <td>1.001671</td>\n",
       "    </tr>\n",
       "    <tr>\n",
       "      <td>4</td>\n",
       "      <td>1.035834</td>\n",
       "      <td>1.009301</td>\n",
       "      <td>1.007492</td>\n",
       "      <td>0.997004</td>\n",
       "      <td>1.031060</td>\n",
       "      <td>0.967402</td>\n",
       "      <td>1.003631</td>\n",
       "      <td>0.965711</td>\n",
       "      <td>1.002193</td>\n",
       "      <td>1.009843</td>\n",
       "      <td>...</td>\n",
       "      <td>1.005794</td>\n",
       "      <td>0.975023</td>\n",
       "      <td>1.011877</td>\n",
       "      <td>1.007676</td>\n",
       "      <td>0.978319</td>\n",
       "      <td>0.973680</td>\n",
       "      <td>1.001514</td>\n",
       "      <td>0.997534</td>\n",
       "      <td>0.991241</td>\n",
       "      <td>1.003708</td>\n",
       "    </tr>\n",
       "    <tr>\n",
       "      <td>...</td>\n",
       "      <td>...</td>\n",
       "      <td>...</td>\n",
       "      <td>...</td>\n",
       "      <td>...</td>\n",
       "      <td>...</td>\n",
       "      <td>...</td>\n",
       "      <td>...</td>\n",
       "      <td>...</td>\n",
       "      <td>...</td>\n",
       "      <td>...</td>\n",
       "      <td>...</td>\n",
       "      <td>...</td>\n",
       "      <td>...</td>\n",
       "      <td>...</td>\n",
       "      <td>...</td>\n",
       "      <td>...</td>\n",
       "      <td>...</td>\n",
       "      <td>...</td>\n",
       "      <td>...</td>\n",
       "      <td>...</td>\n",
       "      <td>...</td>\n",
       "    </tr>\n",
       "    <tr>\n",
       "      <td>7556</td>\n",
       "      <td>0.521289</td>\n",
       "      <td>0.352088</td>\n",
       "      <td>0.443063</td>\n",
       "      <td>0.252420</td>\n",
       "      <td>0.431288</td>\n",
       "      <td>2.923086</td>\n",
       "      <td>0.117306</td>\n",
       "      <td>0.842296</td>\n",
       "      <td>0.471560</td>\n",
       "      <td>0.342885</td>\n",
       "      <td>...</td>\n",
       "      <td>0.303544</td>\n",
       "      <td>0.702995</td>\n",
       "      <td>0.453079</td>\n",
       "      <td>0.299744</td>\n",
       "      <td>0.791194</td>\n",
       "      <td>4.537127</td>\n",
       "      <td>0.240815</td>\n",
       "      <td>4.326212</td>\n",
       "      <td>0.312574</td>\n",
       "      <td>0.368853</td>\n",
       "    </tr>\n",
       "    <tr>\n",
       "      <td>7557</td>\n",
       "      <td>0.517061</td>\n",
       "      <td>0.343581</td>\n",
       "      <td>0.439990</td>\n",
       "      <td>0.251701</td>\n",
       "      <td>0.430654</td>\n",
       "      <td>2.914475</td>\n",
       "      <td>0.114960</td>\n",
       "      <td>0.861525</td>\n",
       "      <td>0.469499</td>\n",
       "      <td>0.335460</td>\n",
       "      <td>...</td>\n",
       "      <td>0.300319</td>\n",
       "      <td>0.696133</td>\n",
       "      <td>0.455168</td>\n",
       "      <td>0.293901</td>\n",
       "      <td>0.790372</td>\n",
       "      <td>4.622345</td>\n",
       "      <td>0.243129</td>\n",
       "      <td>4.355301</td>\n",
       "      <td>0.316184</td>\n",
       "      <td>0.364981</td>\n",
       "    </tr>\n",
       "    <tr>\n",
       "      <td>7558</td>\n",
       "      <td>0.510714</td>\n",
       "      <td>0.341954</td>\n",
       "      <td>0.446424</td>\n",
       "      <td>0.252214</td>\n",
       "      <td>0.426996</td>\n",
       "      <td>2.941247</td>\n",
       "      <td>0.115045</td>\n",
       "      <td>0.868824</td>\n",
       "      <td>0.475862</td>\n",
       "      <td>0.334430</td>\n",
       "      <td>...</td>\n",
       "      <td>0.300106</td>\n",
       "      <td>0.702234</td>\n",
       "      <td>0.458102</td>\n",
       "      <td>0.291891</td>\n",
       "      <td>0.800984</td>\n",
       "      <td>4.605258</td>\n",
       "      <td>0.242608</td>\n",
       "      <td>4.250191</td>\n",
       "      <td>0.311259</td>\n",
       "      <td>0.364880</td>\n",
       "    </tr>\n",
       "    <tr>\n",
       "      <td>7559</td>\n",
       "      <td>0.506815</td>\n",
       "      <td>0.342154</td>\n",
       "      <td>0.448050</td>\n",
       "      <td>0.253475</td>\n",
       "      <td>0.435306</td>\n",
       "      <td>2.908900</td>\n",
       "      <td>0.114123</td>\n",
       "      <td>0.862573</td>\n",
       "      <td>0.468710</td>\n",
       "      <td>0.332255</td>\n",
       "      <td>...</td>\n",
       "      <td>0.302004</td>\n",
       "      <td>0.711425</td>\n",
       "      <td>0.448149</td>\n",
       "      <td>0.290229</td>\n",
       "      <td>0.810936</td>\n",
       "      <td>4.562320</td>\n",
       "      <td>0.244607</td>\n",
       "      <td>4.211446</td>\n",
       "      <td>0.306761</td>\n",
       "      <td>0.360294</td>\n",
       "    </tr>\n",
       "    <tr>\n",
       "      <td>7560</td>\n",
       "      <td>0.517851</td>\n",
       "      <td>0.346825</td>\n",
       "      <td>0.460852</td>\n",
       "      <td>0.256298</td>\n",
       "      <td>0.436296</td>\n",
       "      <td>2.907462</td>\n",
       "      <td>0.112001</td>\n",
       "      <td>0.854851</td>\n",
       "      <td>0.458664</td>\n",
       "      <td>0.330803</td>\n",
       "      <td>...</td>\n",
       "      <td>0.304436</td>\n",
       "      <td>0.704983</td>\n",
       "      <td>0.443183</td>\n",
       "      <td>0.293080</td>\n",
       "      <td>0.814821</td>\n",
       "      <td>4.556088</td>\n",
       "      <td>0.243044</td>\n",
       "      <td>4.111251</td>\n",
       "      <td>0.307268</td>\n",
       "      <td>0.364562</td>\n",
       "    </tr>\n",
       "  </tbody>\n",
       "</table>\n",
       "<p>7561 rows × 500 columns</p>\n",
       "</div>"
      ],
      "text/plain": [
       "           0         1         2         3         4         5         6    \\\n",
       "0     1.000000  1.000000  1.000000  1.000000  1.000000  1.000000  1.000000   \n",
       "1     1.000860  0.996504  0.990726  1.010838  1.030231  0.988798  0.997215   \n",
       "2     1.022401  1.007016  0.999766  0.986816  1.024704  0.980537  0.984230   \n",
       "3     1.018305  1.003802  1.000397  0.984770  1.017651  0.964630  0.994307   \n",
       "4     1.035834  1.009301  1.007492  0.997004  1.031060  0.967402  1.003631   \n",
       "...        ...       ...       ...       ...       ...       ...       ...   \n",
       "7556  0.521289  0.352088  0.443063  0.252420  0.431288  2.923086  0.117306   \n",
       "7557  0.517061  0.343581  0.439990  0.251701  0.430654  2.914475  0.114960   \n",
       "7558  0.510714  0.341954  0.446424  0.252214  0.426996  2.941247  0.115045   \n",
       "7559  0.506815  0.342154  0.448050  0.253475  0.435306  2.908900  0.114123   \n",
       "7560  0.517851  0.346825  0.460852  0.256298  0.436296  2.907462  0.112001   \n",
       "\n",
       "           7         8         9    ...       490       491       492  \\\n",
       "0     1.000000  1.000000  1.000000  ...  1.000000  1.000000  1.000000   \n",
       "1     1.027909  1.001189  0.986111  ...  1.004310  0.977416  1.006939   \n",
       "2     1.003746  0.997021  0.983733  ...  1.012582  0.984325  1.010542   \n",
       "3     0.983579  0.994822  1.006714  ...  1.012985  0.969344  1.013405   \n",
       "4     0.965711  1.002193  1.009843  ...  1.005794  0.975023  1.011877   \n",
       "...        ...       ...       ...  ...       ...       ...       ...   \n",
       "7556  0.842296  0.471560  0.342885  ...  0.303544  0.702995  0.453079   \n",
       "7557  0.861525  0.469499  0.335460  ...  0.300319  0.696133  0.455168   \n",
       "7558  0.868824  0.475862  0.334430  ...  0.300106  0.702234  0.458102   \n",
       "7559  0.862573  0.468710  0.332255  ...  0.302004  0.711425  0.448149   \n",
       "7560  0.854851  0.458664  0.330803  ...  0.304436  0.704983  0.443183   \n",
       "\n",
       "           493       494       495       496       497       498       499  \n",
       "0     1.000000  1.000000  1.000000  1.000000  1.000000  1.000000  1.000000  \n",
       "1     1.004412  0.987838  1.007584  0.999476  1.010560  0.995434  0.983455  \n",
       "2     1.011950  0.989094  0.975588  0.999816  1.005351  0.988365  0.993675  \n",
       "3     1.021555  0.972767  0.979209  1.013518  0.991634  0.994530  1.001671  \n",
       "4     1.007676  0.978319  0.973680  1.001514  0.997534  0.991241  1.003708  \n",
       "...        ...       ...       ...       ...       ...       ...       ...  \n",
       "7556  0.299744  0.791194  4.537127  0.240815  4.326212  0.312574  0.368853  \n",
       "7557  0.293901  0.790372  4.622345  0.243129  4.355301  0.316184  0.364981  \n",
       "7558  0.291891  0.800984  4.605258  0.242608  4.250191  0.311259  0.364880  \n",
       "7559  0.290229  0.810936  4.562320  0.244607  4.211446  0.306761  0.360294  \n",
       "7560  0.293080  0.814821  4.556088  0.243044  4.111251  0.307268  0.364562  \n",
       "\n",
       "[7561 rows x 500 columns]"
      ]
     },
     "execution_count": 13,
     "metadata": {},
     "output_type": "execute_result"
    }
   ],
   "source": [
    "# Run the Monte Carlo Simulation\n",
    "for n in range(number_simulations):\n",
    "    # Initialize the simulated prices list with the last closing price of `AGG` and `SPY`\n",
    "    simulated_AGG_prices = [AGG_lastclose]\n",
    "    simulated_SPY_prices = [SPY_lastclose]\n",
    "    \n",
    "    # Simulate the returns for 252 trading days * 30 years = 7650 days of closing prices\n",
    "    for day in range(number_records):\n",
    "        \n",
    "        # Calculate the simulated price using the last price within the list\n",
    "        simulated_AGG_price = simulated_AGG_prices[-1] * (1 + np.random.normal(avg_daily_return_AGG, std_dev_daily_return_AGG))\n",
    "        simulated_SPY_price = simulated_SPY_prices[-1] * (1 + np.random.normal(avg_daily_return_SPY, std_dev_daily_return_SPY))\n",
    "       \n",
    "        # Add the simulated price to the list of prices\n",
    "        simulated_AGG_prices.append(simulated_AGG_price)\n",
    "        simulated_SPY_prices.append(simulated_SPY_price)\n",
    "    \n",
    "    # Add simulated prices of each simulation to DataFrame\n",
    "    monte_carlo[\"AGG prices\"] = pd.Series(simulated_AGG_prices)\n",
    "    monte_carlo[\"SPY prices\"] = pd.Series(simulated_SPY_prices)  \n",
    "    \n",
    "    # Calculate the daily returns of simulated prices\n",
    "    monte_carlo_returns = monte_carlo.pct_change()\n",
    "    \n",
    "    # Set the portfolio weights (60% AGG; 40% SPY)\n",
    "    weights = [0.6, 0.4]\n",
    "    \n",
    "    # Use the `dot` function with the weights to multiply weights with each column's simulated daily returns\n",
    "    #This will give appropriate weight to the returns from each stock\n",
    "    portfolio_returns = monte_carlo_returns.dot(weights)\n",
    "    \n",
    "    # Calculate the normalized, cumulative return series\n",
    "    portfolio_cumulative_returns[n]= (1 + portfolio_returns.fillna(0)).cumprod()\n",
    "    \n",
    "# Print records from the DataFrame\n",
    "portfolio_cumulative_returns"
   ]
  },
  {
   "cell_type": "code",
   "execution_count": 14,
   "metadata": {},
   "outputs": [
    {
     "data": {
      "text/plain": [
       "<matplotlib.axes._subplots.AxesSubplot at 0x1172dde90>"
      ]
     },
     "execution_count": 14,
     "metadata": {},
     "output_type": "execute_result"
    },
    {
     "data": {
      "image/png": "[encoded data removed]",
      "text/plain": [
       "<Figure size 432x288 with 1 Axes>"
      ]
     },
     "metadata": {
      "needs_background": "light"
     },
     "output_type": "display_data"
    }
   ],
   "source": [
    "# Visualize the Simulation\n",
    "# Use the `plot` function to plot 500 simulations of the potential trajectories of the portfolio based on 252 trading days\n",
    "plot_title = f\"{n+1} Simulations of Cumulative Portfolio Return Trajectories Over the Next 30 years (7560 Trading Days)\"\n",
    "portfolio_cumulative_returns.plot(legend=None, title=plot_title)"
   ]
  },
  {
   "cell_type": "code",
   "execution_count": 24,
   "metadata": {},
   "outputs": [
    {
     "data": {
      "text/plain": [
       "0    0.517851\n",
       "1    0.346825\n",
       "2    0.460852\n",
       "3    0.256298\n",
       "4    0.436296\n",
       "Name: 7560, dtype: float64"
      ]
     },
     "execution_count": 24,
     "metadata": {},
     "output_type": "execute_result"
    }
   ],
   "source": [
    "# Select the last row for the cumulative returns (cumulative returns at 30 years or 7560 trading days)\n",
    "ending_cumulative_returns = portfolio_cumulative_returns.iloc[-1, :]\n",
    "ending_cumulative_returns.head()"
   ]
  },
  {
   "cell_type": "code",
   "execution_count": 23,
   "metadata": {},
   "outputs": [
    {
     "data": {
      "text/plain": [
       "0    0.565126\n",
       "1    0.498490\n",
       "2    0.327007\n",
       "3    0.312509\n",
       "4    1.579078\n",
       "Name: 5041, dtype: float64"
      ]
     },
     "execution_count": 23,
     "metadata": {},
     "output_type": "execute_result"
    }
   ],
   "source": [
    "# Select the row for the cumulative returns (cumulative returns at 20 years or 5040 trading days )\n",
    "yr20_cumulative_returns = portfolio_cumulative_returns.iloc[5041, :]\n",
    "yr20_cumulative_returns.head()"
   ]
  },
  {
   "cell_type": "code",
   "execution_count": 26,
   "metadata": {},
   "outputs": [
    {
     "data": {
      "text/plain": [
       "0.025    0.054131\n",
       "0.925    2.229611\n",
       "Name: 7560, dtype: float64"
      ]
     },
     "execution_count": 26,
     "metadata": {},
     "output_type": "execute_result"
    }
   ],
   "source": [
    "# Display the 90% confidence interval for the ending returns\n",
    "# Use the `quantile` function to calculate the 90% confidence interval for simulated ending returns\n",
    "confidence_interval = ending_cumulative_returns.quantile(q=[0.025, 0.925])\n",
    "confidence_interval"
   ]
  },
  {
   "cell_type": "code",
   "execution_count": 29,
   "metadata": {},
   "outputs": [
    {
     "data": {
      "text/plain": [
       "<matplotlib.lines.Line2D at 0x11c8847d0>"
      ]
     },
     "execution_count": 29,
     "metadata": {},
     "output_type": "execute_result"
    },
    {
     "data": {
      "image/png": "[encoded data removed]",
      "text/plain": [
       "<Figure size 432x288 with 1 Axes>"
      ]
     },
     "metadata": {
      "needs_background": "light"
     },
     "output_type": "display_data"
    }
   ],
   "source": [
    "# Visualize the distribution of the ending returns\n",
    "# Create a probability distribution histogram of simulated ending prices\n",
    "# with markings for a 90% confidence interval\n",
    "plt.figure();\n",
    "ending_cumulative_returns.plot(kind='hist', density=True, bins=20)\n",
    "plt.axvline(confidence_interval.iloc[0], color='r')\n",
    "plt.axvline(confidence_interval.iloc[1], color='r')"
   ]
  },
  {
   "cell_type": "markdown",
   "metadata": {},
   "source": [
    "---"
   ]
  },
  {
   "cell_type": "markdown",
   "metadata": {},
   "source": [
    "# Retirement Analysis\n",
    "\n",
    "In this section, you will use the monte carlo model to answer the following retirement planning questions:\n",
    "\n",
    "1. What are the expected cumulative returns at 30 years for the 10th, 50th, and 90th percentiles?\n",
    "2. Given an initial investment of `$20,000`, what is the expected portfolio return in dollars at the 10th, 50th, and 90th percentiles?\n",
    "3. Given the current projected annual income from the Plaid analysis, will a 4% withdraw rate from the retirement portfolio meet or exceed that value at the 10th percentile?\n",
    "4. How would a 50% increase in the initial investment amount affect the 4% retirement withdrawal?"
   ]
  },
  {
   "cell_type": "markdown",
   "metadata": {},
   "source": [
    "### What are the expected cumulative returns at 30 years for the 10th, 50th, and 90th percentiles?"
   ]
  },
  {
   "cell_type": "code",
   "execution_count": 33,
   "metadata": {},
   "outputs": [
    {
     "data": {
      "text/plain": [
       "0.025    0.054131\n",
       "0.925    2.229611\n",
       "Name: 7560, dtype: float64"
      ]
     },
     "execution_count": 33,
     "metadata": {},
     "output_type": "execute_result"
    }
   ],
   "source": [
    "#bring down ending_cumulative_returns for the last row of monte_carlo data @ 30 years or 7650 trading days\n",
    "\n",
    "# Display the 90% confidence interval for the ending returns\n",
    "# Use the `quantile` function to calculate the 90% confidence interval for simulated ending returns\n",
    "confidence_interval_90 = ending_cumulative_returns.quantile(q=[0.025, 0.925])\n",
    "confidence_interval_90"
   ]
  },
  {
   "cell_type": "code",
   "execution_count": 34,
   "metadata": {},
   "outputs": [
    {
     "data": {
      "text/plain": [
       "0.025    0.054131\n",
       "0.525    0.531456\n",
       "Name: 7560, dtype: float64"
      ]
     },
     "execution_count": 34,
     "metadata": {},
     "output_type": "execute_result"
    }
   ],
   "source": [
    "# Display the 50% confidence interval for the ending returns\n",
    "# Use the `quantile` function to calculate the 90% confidence interval for simulated ending returns\n",
    "confidence_interval_50 = ending_cumulative_returns.quantile(q=[0.025, 0.525])\n",
    "confidence_interval_50"
   ]
  },
  {
   "cell_type": "code",
   "execution_count": 35,
   "metadata": {},
   "outputs": [
    {
     "data": {
      "text/plain": [
       "0.025    0.054131\n",
       "0.125    0.143388\n",
       "Name: 7560, dtype: float64"
      ]
     },
     "execution_count": 35,
     "metadata": {},
     "output_type": "execute_result"
    }
   ],
   "source": [
    "# Display the 10% confidence interval for the ending returns\n",
    "# Use the `quantile` function to calculate the 90% confidence interval for simulated ending returns\n",
    "confidence_interval_10 = ending_cumulative_returns.quantile(q=[0.025, 0.125])\n",
    "confidence_interval_10"
   ]
  },
  {
   "cell_type": "markdown",
   "metadata": {},
   "source": [
    "### Given an initial investment of `$20,000`, what is the expected portfolio return in dollars at the 10th, 50th, and 90th percentiles?"
   ]
  },
  {
   "cell_type": "code",
   "execution_count": 36,
   "metadata": {},
   "outputs": [],
   "source": [
    "# Set initial investment\n",
    "initial_investment = 20000"
   ]
  },
  {
   "cell_type": "code",
   "execution_count": 57,
   "metadata": {},
   "outputs": [
    {
     "name": "stdout",
     "output_type": "stream",
     "text": [
      "There is a 90% chance that an initial investment of $20000 in the portfolio over the next 252 * 30 trading days will end within in the range of $1082.613703818408 and $44592.22627488476\n"
     ]
    }
   ],
   "source": [
    "# For the 90th Percentile\n",
    "# Calculate investment profit/loss of lower and upper bound cumulative portfolio returns\n",
    "investment_pnl_lower_bound_90 = initial_investment * confidence_interval_90.iloc[0]\n",
    "investment_pnl_upper_bound_90 = initial_investment * confidence_interval_90.iloc[1]\n",
    "                                                    \n",
    "# Print the results\n",
    "print(f\"There is a 90% chance that an initial investment of ${initial_investment} in the portfolio\"\n",
    "      f\" over the next 252 * 30 trading days will end within in the range of\"\n",
    "      f\" ${investment_pnl_lower_bound_90} and ${investment_pnl_upper_bound_90}\")"
   ]
  },
  {
   "cell_type": "code",
   "execution_count": 58,
   "metadata": {},
   "outputs": [
    {
     "name": "stdout",
     "output_type": "stream",
     "text": [
      "There is a 50% chance that an initial investment of $20000 in the portfolio over the next 252 * 30 trading days will end within in the range of $1082.613703818408 and $10629.111804466762\n"
     ]
    }
   ],
   "source": [
    "# For the 50th Percentile\n",
    "# Calculate investment profit/loss of lower and upper bound cumulative portfolio returns\n",
    "investment_pnl_lower_bound_50 = initial_investment * confidence_interval_50.iloc[0]\n",
    "investment_pnl_upper_bound_50 = initial_investment * confidence_interval_50.iloc[1]\n",
    "                                                    \n",
    "# Print the results\n",
    "print(f\"There is a 50% chance that an initial investment of ${initial_investment} in the portfolio\"\n",
    "      f\" over the next 252 * 30 trading days will end within in the range of\"\n",
    "      f\" ${investment_pnl_lower_bound_50} and ${investment_pnl_upper_bound_50}\")"
   ]
  },
  {
   "cell_type": "code",
   "execution_count": 59,
   "metadata": {},
   "outputs": [
    {
     "name": "stdout",
     "output_type": "stream",
     "text": [
      "There is a 10% chance that an initial investment of $20000 in the portfolio over the next 252 * 30 trading days will end within in the range of $1082.613703818408 and $2867.7669726316203\n"
     ]
    }
   ],
   "source": [
    "# For the 10th Percentile\n",
    "# Calculate investment profit/loss of lower and upper bound cumulative portfolio returns\n",
    "investment_pnl_lower_bound_10 = initial_investment * confidence_interval_10.iloc[0]\n",
    "investment_pnl_upper_bound_10 = initial_investment * confidence_interval_10.iloc[1]\n",
    "                                                    \n",
    "# Print the results\n",
    "print(f\"There is a 10% chance that an initial investment of ${initial_investment} in the portfolio\"\n",
    "      f\" over the next 252 * 30 trading days will end within in the range of\"\n",
    "      f\" ${investment_pnl_lower_bound_10} and ${investment_pnl_upper_bound_10}\")"
   ]
  },
  {
   "cell_type": "markdown",
   "metadata": {},
   "source": [
    "### Given the current projected annual income from the Plaid analysis, will a 4% withdraw rate from the retirement portfolio meet or exceed that value at the 10th percentile?\n",
    "\n",
    "Note: This is effectively saying that 90% of the expected returns will be greater than the return at the 10th percentile, so this can help measure the uncertainty about having enough funds at retirement"
   ]
  },
  {
   "cell_type": "code",
   "execution_count": 71,
   "metadata": {},
   "outputs": [
    {
     "name": "stdout",
     "output_type": "stream",
     "text": [
      "A 4% withdraw rate from the retirement portfolio would fall between $43.304548152736324 and $114.71067890526481 depending on the final value of the portfolio at 30 years. Both of these values are lower than the projected yearly income of $6085. This means there is a 10% chance that the withdraw from the portfolio will not meet and will not exceed the value of the projected annual income.\n"
     ]
    }
   ],
   "source": [
    "#Will 4% withdraw rate from retirement meet or exceed value at the 10th percentile.\n",
    "#4% withdraw from retirement portfolio value vs. income estimated in plaid. \n",
    "#Project yearly income was $6085 \n",
    "#Calculated in account_summary.ipynb\n",
    "proj_annual_income=6085\n",
    "#Calculate 4% of the retirement portfolio value at the 10th percentile\n",
    "retirement_lowerbound_10_4percent=investment_pnl_lower_bound_10*(4/100)\n",
    "retirement_upperbound_10_4percent=investment_pnl_upper_bound_10*(4/100)\n",
    "\n",
    "print(f\"A 4% withdraw rate from the retirement portfolio would fall between ${retirement_lowerbound_10_4percent} and ${retirement_upperbound_10_4percent} depending on the final value of the portfolio at 30 years. Both of these values are lower than the projected yearly income of ${proj_annual_income}. This means there is a 10% chance that the withdraw from the portfolio will not meet and will not exceed the value of the projected annual income.\")"
   ]
  },
  {
   "cell_type": "markdown",
   "metadata": {},
   "source": [
    "### How would a 50% increase in the initial investment amount affect the 4% retirement withdrawal?"
   ]
  },
  {
   "cell_type": "code",
   "execution_count": 77,
   "metadata": {},
   "outputs": [
    {
     "name": "stdout",
     "output_type": "stream",
     "text": [
      "There is a 10% chance that a 50% higher initial investment of $30000.0 in the portfolio over the next 252 * 30 trading days will end within in the range of $1623.920555727612 and $4301.650458947431\n"
     ]
    }
   ],
   "source": [
    "# Set initial investment to 1.5 x more (50% increase)\n",
    "initial_investment_raised = 20000*1.5\n",
    "# For the 10th Percentile\n",
    "# Calculate investment profit/loss of lower and upper bound cumulative portfolio returns\n",
    "investment_pnl_lower_bound_10_raised = initial_investment_raised * confidence_interval_10.iloc[0]\n",
    "investment_pnl_upper_bound_10_raised = initial_investment_raised * confidence_interval_10.iloc[1]\n",
    "                                                    \n",
    "# Print the results\n",
    "print(f\"There is a 10% chance that a 50% higher initial investment of ${initial_investment_raised} in the portfolio\"\n",
    "      f\" over the next 252 * 30 trading days will end within in the range of\"\n",
    "      f\" ${investment_pnl_lower_bound_10} and ${investment_pnl_upper_bound_10}\")"
   ]
  },
  {
   "cell_type": "code",
   "execution_count": 79,
   "metadata": {},
   "outputs": [
    {
     "name": "stdout",
     "output_type": "stream",
     "text": [
      "A 4% withdraw rate from the retirement portfolio would fall between $64.95682222910449 and $172.06601835789724 depending on the final value of the portfolio at 30 years. Both of these values are lower than the projected yearly income of $6085. This means there is a 10% chance that the withdraw from the portfolio will not meet and will not exceed the value of the projected annual income.\n"
     ]
    }
   ],
   "source": [
    "#Will 4% withdraw rate from retirement meet or exceed value at the 10th percentile.\n",
    "#4% withdraw from retirement portfolio value vs. income estimated in plaid. \n",
    "#Project yearly income was $6085 \n",
    "#Calculated in account_summary.ipynb\n",
    "proj_annual_income=6085\n",
    "#Calculate 4% of the retirement portfolio value at the 10th percentile\n",
    "retirement_raised_lowerbound_10_4percent=investment_pnl_lower_bound_10_raised*(4/100)\n",
    "retirement_raised_upperbound_10_4percent=investment_pnl_upper_bound_10_raised*(4/100)\n",
    "\n",
    "print(f\"A 4% withdraw rate from the retirement portfolio would fall between ${retirement_raised_lowerbound_10_4percent} and ${retirement_raised_upperbound_10_4percent} depending on the final value of the portfolio at 30 years. Both of these values are lower than the projected yearly income of ${proj_annual_income}. This means there is a 10% chance that the withdraw from the portfolio will not meet and will not exceed the value of the projected annual income.\")"
   ]
  },
  {
   "cell_type": "markdown",
   "metadata": {},
   "source": [
    "### Optional Challenge\n",
    "\n",
    "In this section, you will calculate and plot the cumulative returns for the median and 90% confidence intervals. This plot shows the expected cumulative returns for any given day between the first day and the last day of investment. "
   ]
  },
  {
   "cell_type": "code",
   "execution_count": null,
   "metadata": {},
   "outputs": [],
   "source": [
    "# YOUR CODE HERE"
   ]
  }
 ],
 "metadata": {
  "kernel_info": {
   "name": "dev"
  },
  "kernelspec": {
   "display_name": "Python 3",
   "language": "python",
   "name": "python3"
  },
  "language_info": {
   "codemirror_mode": {
    "name": "ipython",
    "version": 3
   },
   "file_extension": ".py",
   "mimetype": "text/x-python",
   "name": "python",
   "nbconvert_exporter": "python",
   "pygments_lexer": "ipython3",
   "version": "3.7.4"
  },
  "nteract": {
   "version": "0.12.3"
  }
 },
 "nbformat": 4,
 "nbformat_minor": 4
}
